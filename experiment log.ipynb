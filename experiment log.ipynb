{
 "cells": [
  {
   "cell_type": "markdown",
   "metadata": {},
   "source": [
    "# Attempt 1\n",
    "### (Worked on Task 2.1)\n",
    "\n",
    "## Date - 04/04/2021"
   ]
  },
  {
   "cell_type": "markdown",
   "metadata": {},
   "source": [
    "### Hypothesis\n",
    "\n",
    "Created the outline for the first model with different set of parameters after studying/reading many research work done in this particular area. The dataset has been divided into two parts i.e. train and validation sets. Initially all the desired pre-processing techniques have been applied after carefully loading the given dataset. "
   ]
  },
  {
   "cell_type": "markdown",
   "metadata": {},
   "source": [
    "### Observation\n",
    "\n",
    "It has been observed that the model performs very poorly with the initial propsed model. The model even does not fit the training dataset and contains very large bias. \n",
    "\n",
    "For further improvemnets more detail analysis is to be done for how to reduce the bias error by modifying the model by looking into desired resources."
   ]
  },
  {
   "cell_type": "markdown",
   "metadata": {},
   "source": [
    "# Attempt 2\n",
    "\n",
    "## Date - 05/04/2021"
   ]
  },
  {
   "cell_type": "markdown",
   "metadata": {},
   "source": [
    "### Hypothesis\n",
    "\n",
    "The outcome from the previous model was improved by modifying the entire model setup. I reinitialised my plan and again developed this model from scratch and this time I found that the model performs far better as compared to previous one. \n",
    "\n",
    "\n",
    "### Observation\n",
    "\n",
    "Finished preparing the version 1 of the model and saved the entire model with its weights for further use in later cases. What I have observed is that we need certain rethinking or rejuvination of our thoughts if something doesn't work, and so i completely rethink the complete design, still there remains scope for improvement as there exists variance problem. With hyperparameter tuning I could get rid of the problem. "
   ]
  },
  {
   "cell_type": "code",
   "execution_count": null,
   "metadata": {},
   "outputs": [],
   "source": []
  }
 ],
 "metadata": {
  "kernelspec": {
   "display_name": "Python 3",
   "language": "python",
   "name": "python3"
  },
  "language_info": {
   "codemirror_mode": {
    "name": "ipython",
    "version": 3
   },
   "file_extension": ".py",
   "mimetype": "text/x-python",
   "name": "python",
   "nbconvert_exporter": "python",
   "pygments_lexer": "ipython3",
   "version": "3.7.6"
  }
 },
 "nbformat": 4,
 "nbformat_minor": 4
}
