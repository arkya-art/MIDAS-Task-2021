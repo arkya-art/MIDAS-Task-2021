{
 "cells": [
  {
   "cell_type": "markdown",
   "metadata": {},
   "source": [
    "#  1\n",
    "### (Started Work on Task 2.1)\n",
    "\n",
    "## Date - 04/04/2021"
   ]
  },
  {
   "cell_type": "markdown",
   "metadata": {},
   "source": [
    "### Hypothesis\n",
    "\n",
    "Created the outline for the first model with different set of parameters after studying/reading many research work done in this particular area. The dataset has been divided into two parts i.e. train and validation sets. Initially all the desired pre-processing techniques have been applied after carefully loading the given dataset. "
   ]
  },
  {
   "cell_type": "markdown",
   "metadata": {},
   "source": [
    "### Observation\n",
    "\n",
    "It has been observed that the model performs very poorly with the initial propsed model. The model even does not fit the training dataset and contains very large bias. \n",
    "\n",
    "For further improvemnets more detail analysis is to be done for how to reduce the bias error by modifying the model by looking into desired resources."
   ]
  },
  {
   "cell_type": "markdown",
   "metadata": {},
   "source": [
    "#### Created the experiment log file to note down all the process"
   ]
  },
  {
   "cell_type": "markdown",
   "metadata": {},
   "source": [
    "#  2\n",
    "\n",
    "## Date - 05/04/2021"
   ]
  },
  {
   "cell_type": "markdown",
   "metadata": {},
   "source": [
    "### Hypothesis\n",
    "\n",
    "The outcome from the previous model was improved by modifying the entire model setup. I reinitialised my plan and again developed this model from scratch and this time I found that the model performs far better as compared to previous one. \n",
    "\n",
    "\n",
    "### Observation\n",
    "\n",
    "Finished preparing the version 1 of the model and saved the entire model with its weights for further use in later cases. What I have observed is that we need certain rethinking or rejuvination of our thoughts if something doesn't work, and so i completely rethink the complete design, still there remains scope for improvement as there exists variance problem. With hyperparameter tuning I could get rid of the problem. "
   ]
  },
  {
   "cell_type": "markdown",
   "metadata": {},
   "source": [
    "# 3\n",
    "\n",
    "## Date - 06/04/2021\n",
    "\n",
    "### Hypothesis\n",
    "\n",
    " Model for task 2.1 has been finaly created, more detailed analysis and docstrings have been added in the python file itself.\n",
    "#### Python files for visualization, Data generation, model have been added in the local github repository with details and requirements mentioned in the readme.md file.\n",
    "\n",
    "#### Saved the checkpoints for the model for later usage in Checkpoint folder\n",
    "\n",
    "#### Added the path of the created model in sys.path using sys.path.append()\n",
    " \n",
    "The performance of the model so far till now is poor"
   ]
  },
  {
   "cell_type": "markdown",
   "metadata": {},
   "source": [
    "# 4\n",
    "\n",
    "## Date - 07/04/2021\n",
    "### (Started work on Task 2.2)\n",
    "\n",
    "Downloaded the dataset 0-9 training dataset from the drive link and used the previously build data generator in Task 2.1 to build the training and validation. This dataset contains the 0-9 digits and its visualization has been done by calling the previously build function from Task 2.1\n",
    "\n",
    "Loaded the model and customised it according to the 10 classes of above datset. It was build and trained on the pevious task into this program and trained on the above dataet and created save_callback \n",
    "\n",
    "Also for visualizing the performance the tensorboard call back also being created in the above program then the model is trained on the 0-9 dataset and \n",
    "\n",
    "#### checkpoint is created for this model further evaluation as \"checkpoint/\"\n",
    "#### The tensorboard callback is named \"tb_callback_dir\"\n",
    "\n",
    "### Observation\n",
    "\n",
    "It has been observed that the model performed better and again the detailed analysis is shown/updated in the readme.md file.\n",
    "The model analysis in tensorboard web is considered and will be used in upcoming tasks\n",
    "\n"
   ]
  },
  {
   "cell_type": "markdown",
   "metadata": {},
   "source": [
    "# 5\n",
    "\n",
    "## Date - 08/04/2021\n",
    "\n",
    "### Training On MNIST Dataset using pretrained model\n",
    "\n",
    "The MNIST dataset which contains about 60,000 training images and about 10,000 test images is loaded into the file using the inbuilt keras train test split it is already available in separated form and before proceeding forward it is normalized\n",
    "\n",
    "weights from pretrained model on 0-9 dataset loaded and trained on the mnist dataset\n",
    "\n",
    "#### checkpoint is created for this model further evaluation as \"checkpoint_mnist_pretrained/\"\n",
    "#### The tensorboard callback is named \"mnist_pretrained_callback_dir\"\n",
    "\n",
    "### Observation\n",
    "\n",
    "The Model performed very well in this adopted technique with the earlier model. The detailed analysis is done on the read.md section of the file.\n"
   ]
  },
  {
   "cell_type": "markdown",
   "metadata": {},
   "source": [
    "## Date - 08/04/2021\n",
    "\n",
    "### Training On MNIST Dataset using randomly initialized model\n",
    "\n",
    "The MNIST dataset is again being loaded with all the earlier adopted techniques \n",
    "\n",
    "This time I created a randomly initialized model using almost similar blocks and then used this model to train the MNIST dataset which was loaded. \n",
    "\n",
    "#### checkpoint is created for this model further evaluation as \"checkpoint_mnist/\"\n",
    "#### The tensorboard callback is named \"mnist_callback_dir\"\n",
    "\n",
    "### Observation\n",
    "\n",
    "This time also the model performs very well"
   ]
  },
  {
   "cell_type": "markdown",
   "metadata": {},
   "source": [
    "#### A thorough analysis is performed on the above two blocks "
   ]
  },
  {
   "cell_type": "markdown",
   "metadata": {},
   "source": [
    "# NOTE\n",
    "\n",
    "## I was not able to download the dataset for the Task 2.3 and so I contacted the coordinator of Task2 and he suggested me to work with the inbuilt MNIST dataset instead of the provided dataset and to present my results according to that."
   ]
  },
  {
   "cell_type": "markdown",
   "metadata": {},
   "source": [
    "# 6\n",
    "\n",
    "## Date - 09/04/2021\n",
    "### (Started work on Task 2.3)\n",
    "\n",
    "The MNIST dataset is again being loaded with all the earlier adopted techniques\n",
    "\n",
    "The model structure from Task 2.1 is also loaded but since it contained the last dense Layer of 62 classes but in MNIST dataset we have 10 classes of images so modified the earlier network according to our need and created final Dense layer of 10 classes.\n",
    "\n",
    "This pretrained network is then trained on the MNIST dataset and also finally evaluated on the MNIST test datset\n",
    "\n",
    "#### checkpoint is created for this model further evaluation as \"checkpoint_mnist_pretrained2.1/\"\n",
    "#### The tensorboard callback is named \"mnist_pretrained2.1_callback_dir\"\n",
    "\n",
    "### Observation\n",
    "\n",
    "The performs very well this time also"
   ]
  },
  {
   "cell_type": "markdown",
   "metadata": {},
   "source": [
    "# Files \n",
    "\n",
    "  ## .ipynb_checkpoints\n",
    "  ## _pycache\n",
    "  ## Task 2.1\n",
    "  ## Task 2.2\n",
    "  ## Task 2.3\n",
    "  ## train\n",
    "  ## .gitignore\n",
    "  ## experiment log"
   ]
  },
  {
   "cell_type": "code",
   "execution_count": null,
   "metadata": {},
   "outputs": [],
   "source": []
  }
 ],
 "metadata": {
  "kernelspec": {
   "display_name": "Python 3",
   "language": "python",
   "name": "python3"
  },
  "language_info": {
   "codemirror_mode": {
    "name": "ipython",
    "version": 3
   },
   "file_extension": ".py",
   "mimetype": "text/x-python",
   "name": "python",
   "nbconvert_exporter": "python",
   "pygments_lexer": "ipython3",
   "version": "3.7.6"
  }
 },
 "nbformat": 4,
 "nbformat_minor": 4
}
